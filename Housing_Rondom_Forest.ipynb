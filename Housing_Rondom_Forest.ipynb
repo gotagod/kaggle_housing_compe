{
 "cells": [
  {
   "cell_type": "code",
   "execution_count": 11,
   "metadata": {
    "collapsed": false
   },
   "outputs": [],
   "source": [
    "import pandas as pd\n",
    "import numpy as np\n",
    "import matplotlib.pyplot as plt\n",
    "% matplotlib inline\n",
    "from sklearn.model_selection import train_test_split\n",
    "from sklearn.metrics import accuracy_score\n",
    "from sklearn.ensemble import RandomForestRegressor\n",
    "\n",
    "df = pd.read_csv(\"train.csv\")\n",
    "X = df.loc[:,['1stFlrSF', 'BsmtQual', 'ExterQual', 'Fireplaces', 'Foundation',\n",
    "       'FullBath', 'GarageArea', 'GarageCars', 'GarageFinish',\n",
    "       'GarageType', 'GarageYrBlt', 'GrLivArea', 'HeatingQC',\n",
    "       'KitchenQual', 'MSSubClass', 'MasVnrArea', 'MasVnrType',\n",
    "       'Neighborhood', 'OverallQual', 'TotRmsAbvGrd',\n",
    "       'TotalBsmtSF', 'YearBuilt', 'YearRemodAdd']].values\n",
    "y = df.loc[:,[\"SalePrice\"]]\n",
    "X_train, X_test, y_train, y_test = train_test_split(X, y, test_size = 0.3, random_state = 0)"
   ]
  },
  {
   "cell_type": "code",
   "execution_count": 22,
   "metadata": {
    "collapsed": false
   },
   "outputs": [
    {
     "name": "stderr",
     "output_type": "stream",
     "text": [
      "C:\\Users\\user\\Anaconda3\\lib\\site-packages\\ipykernel\\__main__.py:2: DataConversionWarning: A column-vector y was passed when a 1d array was expected. Please change the shape of y to (n_samples,), for example using ravel().\n",
      "  from ipykernel import kernelapp as app\n"
     ]
    },
    {
     "data": {
      "text/plain": [
       "array([ 0.03021052,  0.00563764,  0.00893775,  0.00415233,  0.00154622,\n",
       "        0.00464345,  0.02988605,  0.01897198,  0.00326559,  0.00553993,\n",
       "        0.01078918,  0.12130107,  0.00143078,  0.00339591,  0.00858215,\n",
       "        0.03077858,  0.00165797,  0.07251111,  0.5416965 ,  0.00464554,\n",
       "        0.06444078,  0.01010868,  0.01587029])"
      ]
     },
     "execution_count": 22,
     "metadata": {},
     "output_type": "execute_result"
    }
   ],
   "source": [
    "#RFで特徴量の重要度算出。やっぱりOverallQualとGrLivAreaが高い。\n",
    "rf_reg = RandomForestRegressor(n_estimators = 10)\n",
    "rf_reg = rf_reg.fit(X_train, y_train)\n",
    "\n",
    "fti = rf_reg.feature_importances_\n",
    "\n",
    "fti"
   ]
  },
  {
   "cell_type": "code",
   "execution_count": 24,
   "metadata": {
    "collapsed": true
   },
   "outputs": [],
   "source": [
    "X_rf = df.loc[:,[\"OverallQual\", \"GrLivArea\"]]"
   ]
  },
  {
   "cell_type": "code",
   "execution_count": 25,
   "metadata": {
    "collapsed": true
   },
   "outputs": [],
   "source": [
    "X_rf_train, X_rf_test, y_rf_train, y_rf_test = train_test_split(X_rf, y, test_size = 0.3, random_state = 0)"
   ]
  },
  {
   "cell_type": "code",
   "execution_count": 27,
   "metadata": {
    "collapsed": false
   },
   "outputs": [
    {
     "data": {
      "text/plain": [
       "LinearRegression(copy_X=True, fit_intercept=True, n_jobs=1, normalize=False)"
      ]
     },
     "execution_count": 27,
     "metadata": {},
     "output_type": "execute_result"
    }
   ],
   "source": [
    "from sklearn.linear_model import LinearRegression\n",
    "lr = LinearRegression()\n",
    "lr.fit(X_rf_train, y_rf_train)"
   ]
  },
  {
   "cell_type": "code",
   "execution_count": 28,
   "metadata": {
    "collapsed": false
   },
   "outputs": [
    {
     "data": {
      "text/plain": [
       "array([[ 31506.71506056,     61.36857857]])"
      ]
     },
     "execution_count": 28,
     "metadata": {},
     "output_type": "execute_result"
    }
   ],
   "source": [
    "# 偏回帰係数を出力\n",
    "lr.coef_"
   ]
  },
  {
   "cell_type": "code",
   "execution_count": 29,
   "metadata": {
    "collapsed": false
   },
   "outputs": [
    {
     "name": "stdout",
     "output_type": "stream",
     "text": [
      "adjusted R^2\n",
      "train: 0.723737\n",
      "test : 0.688849\n"
     ]
    }
   ],
   "source": [
    "# 自由度調整済み決定係数\n",
    "# (決定係数, trainまたはtestのサンプル数, 利用した特徴量の数)\n",
    "def adjusted(score, n_sample, n_features):\n",
    "    adjusted_score = 1 - (1 - score) * ((n_sample - 1) / (n_sample - n_features - 1))\n",
    "    return adjusted_score\n",
    "# 自由度調整済み決定係数を出力\n",
    "print('adjusted R^2')\n",
    "print('train: %3f' % adjusted(lr.score(X_rf_train, y_rf_train), len(y_rf_train), 2))\n",
    "print('test : %3f' % adjusted(lr.score(X_rf_test, y_rf_test), len(y_rf_test), 2))"
   ]
  },
  {
   "cell_type": "code",
   "execution_count": null,
   "metadata": {
    "collapsed": true
   },
   "outputs": [],
   "source": [
    "#RMSEを出力する関数を読み込む\n",
    "from sklearn.metrics import mean_squared_error as mse\n",
    "# RMSEをtrainとtestに分けて出力\n",
    "# 過学習をしているかどうかを確認\n",
    "print('RMSE')\n",
    "print('train: %.3f' % (mse(y_rf_train, lr.predict(X_train)) ** 1/2))\n",
    "print('test : %.3f' % (mse(y_rf_test, lr.predict(X_test)) ** 1/2))"
   ]
  }
 ],
 "metadata": {
  "kernelspec": {
   "display_name": "Python [conda root]",
   "language": "python",
   "name": "conda-root-py"
  },
  "language_info": {
   "codemirror_mode": {
    "name": "ipython",
    "version": 3
   },
   "file_extension": ".py",
   "mimetype": "text/x-python",
   "name": "python",
   "nbconvert_exporter": "python",
   "pygments_lexer": "ipython3",
   "version": "3.5.2"
  }
 },
 "nbformat": 4,
 "nbformat_minor": 1
}
